{
  "nbformat": 4,
  "nbformat_minor": 0,
  "metadata": {
    "colab": {
      "name": "初期値あり.ipynb",
      "provenance": [],
      "collapsed_sections": [],
      "include_colab_link": true
    },
    "kernelspec": {
      "name": "python3",
      "display_name": "Python 3"
    }
  },
  "cells": [
    {
      "cell_type": "markdown",
      "metadata": {
        "id": "view-in-github",
        "colab_type": "text"
      },
      "source": [
        "<a href=\"https://colab.research.google.com/github/1nakatan/hello-world/blob/master/%E5%88%9D%E6%9C%9F%E5%80%A4%E3%81%82%E3%82%8A.ipynb\" target=\"_parent\"><img src=\"https://colab.research.google.com/assets/colab-badge.svg\" alt=\"Open In Colab\"/></a>"
      ]
    },
    {
      "cell_type": "code",
      "metadata": {
        "id": "NmPaC3Mykbg6",
        "colab_type": "code",
        "colab": {}
      },
      "source": [
        "#python-control で制御系のシミュレーション！\n",
        "!pip install slycot\n",
        "!pip install control"
      ],
      "execution_count": 0,
      "outputs": []
    },
    {
      "cell_type": "code",
      "metadata": {
        "id": "davcsZ808hMv",
        "colab_type": "code",
        "outputId": "f4f3469d-37ed-4588-8641-0452034dbb79",
        "colab": {
          "base_uri": "https://localhost:8080/",
          "height": 277
        }
      },
      "source": [
        "from control.matlab import *\n",
        "import matplotlib.pyplot as plt\n",
        "import numpy as np\n",
        "\n",
        "#システムの定義\n",
        "A = [[0, 1],[-6, -5]]\n",
        "b = [[0],[1]]\n",
        "c = [[1, 0],[0,1]]  #状態を出力するために単位行列を利用\n",
        "d = [[0],[0]]       #状態を出力するため\n",
        "\n",
        "#初期値\n",
        "x0 = [[1],[0]]\n",
        "\n",
        "#ステップ応答を評価\n",
        "sys = ss(A, b, c, d)    #状態空間表現\n",
        "t = np.arange(0,10,0.01) #時刻0から10s まで　0.01 s 刻み\n",
        "y,T = step(sys,t,x0)\n",
        "\n",
        "#表示\n",
        "plt.plot(T,y[:,0],label='$x_1(t)$', lw=2)  #x1\n",
        "plt.plot(T,y[:,1],label='$x_2(t)$', lw=2)  #x2\n",
        "plt.grid(color='gray')\n",
        "plt.xlabel('time t [s]')\n",
        "plt.ylabel('output')\n",
        "plt.ylim([-1, 1])\n",
        "plt.legend()\n",
        "plt.show()"
      ],
      "execution_count": 0,
      "outputs": [
        {
          "output_type": "display_data",
          "data": {
            "image/png": "[encoded data removed]",
            "text/plain": [
              "<Figure size 432x288 with 1 Axes>"
            ]
          },
          "metadata": {
            "tags": []
          }
        }
      ]
    }
  ]
}