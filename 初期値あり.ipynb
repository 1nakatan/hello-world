{
  "nbformat": 4,
  "nbformat_minor": 0,
  "metadata": {
    "colab": {
      "name": "初期値あり.ipynb",
      "provenance": [],
      "collapsed_sections": [],
      "include_colab_link": true
    },
    "kernelspec": {
      "name": "python3",
      "display_name": "Python 3"
    }
  },
  "cells": [
    {
      "cell_type": "markdown",
      "metadata": {
        "colab_type": "text",
        "id": "view-in-github"
      },
      "source": [
        "<a href=\"https://colab.research.google.com/github/1nakatan/hello-world/blob/master/%E5%88%9D%E6%9C%9F%E5%80%A4%E3%81%82%E3%82%8A.ipynb\" target=\"_parent\"><img src=\"https://colab.research.google.com/assets/colab-badge.svg\" alt=\"Open In Colab\"/></a>"
      ]
    },
    {
      "cell_type": "code",
      "execution_count": null,
      "metadata": {},
      "outputs": [
        {
          "evalue": "Error: Jupyter cannot be started. Error attempting to locate jupyter: python -m jupyter notebook --version is not running",
          "output_type": "error"
        }
      ],
      "source": [
        "#python-control で制御系のシミュレーション\n",
        "#colaboratory の場合，最初に環境をインストール\n",
        "!pip install slycot\n",
        "!pip install control"
      ]
    },
    {
      "cell_type": "markdown",
      "metadata": {
        "colab_type": "text",
        "id": "QDXwgH6rEBK_"
      },
      "source": [
        "$\n",
        "\\begin{eqnarray}\n",
        "\\dot{\\boldsymbol{x}}&=&\\boldsymbol{Ax}(t)+\\boldsymbol{b}u(t)\\\\\n",
        "y&=&\\boldsymbol{cx}(t)+du(t)\n",
        "\\end{eqnarray}\n",
        "$\n",
        "\n",
        "$A=\\left [\\begin{array}{c}\n",
        "0&1\\\\\n",
        "-6&-5\n",
        "\\end{array}\\right]$,\n",
        "$\\boldsymbol{b}=\\begin{bmatrix}\n",
        "0\\\\\n",
        "1\n",
        "\\end{bmatrix}$,\n",
        "$\\boldsymbol{c}=\\begin{bmatrix}\n",
        "1&0\n",
        "\\end{bmatrix}$,\n",
        "$d=0$\n",
        "\n",
        "初期値$\\boldsymbol{x}(0)=\\begin{bmatrix}\n",
        "1\\\\0\n",
        "\\end{bmatrix}$\n",
        "のときの応答を示す．"
      ]
    },
    {
      "cell_type": "code",
      "execution_count": null,
      "metadata": {},
      "outputs": [
        {
          "evalue": "Error: Jupyter cannot be started. Error attempting to locate jupyter: python -m jupyter notebook --version is not running",
          "output_type": "error"
        }
      ],
      "source": [
        "from control.matlab import *\n",
        "import matplotlib.pyplot as plt\n",
        "import numpy as np\n",
        "\n",
        "#システムの定義\n",
        "A = [[0, 1],[-6, -5]]\n",
        "b = [[0],[1]]\n",
        "c = [[1, 0],[0,1]]  #状態を出力するために単位行列を利用\n",
        "d = [[0],[0]]       #状態を出力するため\n",
        "\n",
        "#初期値\n",
        "x0 = [[1],[0]]\n",
        "\n",
        "#ステップ応答を評価\n",
        "sys = ss(A, b, c, d)    #状態空間表現\n",
        "t = np.arange(0,10,0.01) #時刻0から10s まで　0.01 s 刻み\n",
        "y,T = step(sys,t,x0)\n",
        "\n",
        "#表示\n",
        "plt.plot(T,y[:,0],label='$x_1(t)$', lw=2)  #x1\n",
        "plt.plot(T,y[:,1],label='$x_2(t)$', lw=2)  #x2\n",
        "plt.grid(color='gray')\n",
        "plt.xlabel('time t [s]')\n",
        "plt.ylabel('output')\n",
        "plt.ylim([-1, 1])\n",
        "plt.legend()\n",
        "plt.show()"
      ]
    },
    {
      "cell_type": "markdown",
      "metadata": {
        "colab_type": "text",
        "id": "O-q8BcNIINAZ"
      },
      "source": [
        "上記のシステムで，\n",
        "$A=\\begin{bmatrix}\n",
        "0&1\\\\\n",
        "6&-1\n",
        "\\end{bmatrix}$に変更すると，正の極が存在し，ステップ応答は以下のようになる．"
      ]
    },
    {
      "cell_type": "code",
      "execution_count": 5,
      "metadata": {
        "colab": {
          "base_uri": "https://localhost:8080/",
          "height": 283
        },
        "colab_type": "code",
        "id": "HjHs0gAqJFd0",
        "outputId": "a9f9f5a6-cbef-44ff-fedc-158246096c4b"
      },
      "outputs": [
        {
          "data": {
            "image/png": "[encoded data removed]",
            "text/plain": [
              "<Figure size 432x288 with 1 Axes>"
            ]
          },
          "metadata": {
            "tags": []
          },
          "output_type": "display_data"
        }
      ],
      "source": [
        "#システムの定義\n",
        "A = [[0, 1],[6, -1]]\n",
        "\n",
        "#ステップ応答を評価\n",
        "sys = ss(A, b, c, d)    #状態空間表現\n",
        "t = np.arange(0,6,0.01) #時刻0から10s まで　0.01 s 刻み\n",
        "y,T = step(sys,t,x0)\n",
        "\n",
        "#表示\n",
        "plt.plot(T,y[:,0],label='$x_1(t)$', lw=2)  #x1\n",
        "plt.plot(T,y[:,1],label='$x_2(t)$', lw=2)  #x2\n",
        "plt.grid(color='gray')\n",
        "plt.xlabel('time t [s]')\n",
        "plt.ylabel('output')\n",
        "plt.ylim([0, 12000])\n",
        "plt.legend()\n",
        "plt.show()"
      ]
    },
    {
      "cell_type": "markdown",
      "metadata": {
        "colab_type": "text",
        "id": "3bIXBxxeJYsv"
      },
      "source": [
        "また，\n",
        "\n",
        "$A=\\begin{bmatrix}\n",
        "0&1\\\\\n",
        "-5&-2\n",
        "\\end{bmatrix}$に変更すると，極が複素数となり，ステップ応答は以下のようになる．"
      ]
    },
    {
      "cell_type": "code",
      "execution_count": 7,
      "metadata": {
        "colab": {
          "base_uri": "https://localhost:8080/",
          "height": 283
        },
        "colab_type": "code",
        "id": "5NCyLgKmJX4I",
        "outputId": "fd7e287e-518d-442b-b479-466124490996"
      },
      "outputs": [
        {
          "data": {
            "image/png": "[encoded data removed]",
            "text/plain": [
              "<Figure size 432x288 with 1 Axes>"
            ]
          },
          "metadata": {
            "tags": []
          },
          "output_type": "display_data"
        }
      ],
      "source": [
        "#システムの定義\n",
        "A = [[0, 1],[-5, -2]]\n",
        "\n",
        "#ステップ応答を評価\n",
        "sys = ss(A, b, c, d)    #状態空間表現\n",
        "t = np.arange(0,10,0.01) #時刻0から10s まで　0.01 s 刻み\n",
        "y,T = step(sys,t,x0)\n",
        "\n",
        "#表示\n",
        "plt.plot(T,y[:,0],label='$x_1(t)$', lw=2)  #x1\n",
        "plt.plot(T,y[:,1],label='$x_2(t)$', lw=2)  #x2\n",
        "plt.grid(color='gray')\n",
        "plt.xlabel('time t [s]')\n",
        "plt.ylabel('output')\n",
        "plt.ylim([-1.5, 1])\n",
        "plt.legend()\n",
        "plt.show()"
      ]
    }
  ]
}